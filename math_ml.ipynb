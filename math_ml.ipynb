{
  "nbformat": 4,
  "nbformat_minor": 0,
  "metadata": {
    "colab": {
      "provenance": []
    },
    "kernelspec": {
      "name": "python3",
      "display_name": "Python 3"
    },
    "language_info": {
      "name": "python"
    }
  },
  "cells": [
    {
      "cell_type": "code",
      "execution_count": 1,
      "metadata": {
        "colab": {
          "base_uri": "https://localhost:8080/"
        },
        "id": "DFxlxb2mfQNn",
        "outputId": "5a14fbed-5de9-43ce-f45d-8d4d5bbd9ead"
      },
      "outputs": [
        {
          "output_type": "stream",
          "name": "stdout",
          "text": [
            "The solution is x = 2.8000000000000003, y = -0.6000000000000001\n"
          ]
        }
      ],
      "source": [
        "import numpy as np\n",
        "\n",
        "# Coefficient matrix A\n",
        "A = np.array([[2, 1],\n",
        "              [3, 4]])\n",
        "\n",
        "# Constants vector b\n",
        "b = np.array([5, 6])\n",
        "\n",
        "# Solve the system Ax = b\n",
        "x = np.linalg.solve(A, b)\n",
        "\n",
        "print(f\"The solution is x = {x[0]}, y = {x[1]}\")"
      ]
    },
    {
      "cell_type": "code",
      "source": [
        "import numpy as np\n",
        "\n",
        "# Coefficients matrix\n",
        "A = np.array([[2, 1],\n",
        "              [3, 4]], dtype=float)\n",
        "\n",
        "# Constants vector\n",
        "b = np.array([5, 6], dtype=float)\n",
        "\n",
        "# Augmented matrix [A | b]\n",
        "augmented_matrix = np.column_stack((A, b))\n",
        "\n",
        "# Step 1: Eliminate x from the second row\n",
        "factor = augmented_matrix[1, 0] / augmented_matrix[0, 0]\n",
        "augmented_matrix[1] = augmented_matrix[1] - factor * augmented_matrix[0]\n",
        "\n",
        "# Step 2: Back substitution\n",
        "# y is now easy to solve for\n",
        "y = augmented_matrix[1, 2] / augmented_matrix[1, 1]\n",
        "\n",
        "# Step 3: Solve for x using the first equation\n",
        "x = (augmented_matrix[0, 2] - augmented_matrix[0, 1] * y) / augmented_matrix[0, 0]\n",
        "\n",
        "# The solution\n",
        "print(f\"x = {x}, y = {y}\")"
      ],
      "metadata": {
        "colab": {
          "base_uri": "https://localhost:8080/"
        },
        "id": "QstXgcccfxKH",
        "outputId": "bf310743-7aaa-400b-e8e7-9f3c7c668463"
      },
      "execution_count": 2,
      "outputs": [
        {
          "output_type": "stream",
          "name": "stdout",
          "text": [
            "x = 2.8, y = -0.6\n"
          ]
        }
      ]
    },
    {
      "cell_type": "code",
      "source": [
        "import numpy as np\n",
        "\n",
        "# Coefficient matrix A\n",
        "A = np.array([[2, 1],\n",
        "              [4, 2]])\n",
        "\n",
        "# Constants vector b (optional for solving the system)\n",
        "b = np.array([5, 6])\n",
        "\n",
        "# Calculate the determinant of A\n",
        "det_A = np.linalg.det(A)\n",
        "\n",
        "# Check the determinant and the system's solutions\n",
        "if det_A != 0:\n",
        "    print(f\"Determinant of A = {det_A:.2f}. The matrix is non-singular, so the system has a unique solution.\")\n",
        "    # If we want to solve the system, we can use numpy's solve function\n",
        "    solution = np.linalg.solve(A, b)\n",
        "    print(f\"The unique solution is: {solution}\")\n",
        "else:\n",
        "    print(f\"Determinant of A = {det_A:.2f}. The matrix is singular, so the system may have no solution or infinitely many solutions.\")"
      ],
      "metadata": {
        "colab": {
          "base_uri": "https://localhost:8080/"
        },
        "id": "cPGcaLsYjAuN",
        "outputId": "6c3df393-4792-4168-c54c-df38d3d4f28c"
      },
      "execution_count": 4,
      "outputs": [
        {
          "output_type": "stream",
          "name": "stdout",
          "text": [
            "Determinant of A = 0.00. The matrix is singular, so the system may have no solution or infinitely many solutions.\n"
          ]
        }
      ]
    },
    {
      "cell_type": "code",
      "source": [],
      "metadata": {
        "id": "jtwHKzJekHWc"
      },
      "execution_count": null,
      "outputs": []
    }
  ]
}