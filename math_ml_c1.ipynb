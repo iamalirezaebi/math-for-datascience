{
  "nbformat": 4,
  "nbformat_minor": 0,
  "metadata": {
    "colab": {
      "provenance": []
    },
    "kernelspec": {
      "name": "python3",
      "display_name": "Python 3"
    },
    "language_info": {
      "name": "python"
    }
  },
  "cells": [
    {
      "cell_type": "code",
      "execution_count": null,
      "metadata": {
        "colab": {
          "base_uri": "https://localhost:8080/"
        },
        "id": "DFxlxb2mfQNn",
        "outputId": "5a14fbed-5de9-43ce-f45d-8d4d5bbd9ead"
      },
      "outputs": [
        {
          "output_type": "stream",
          "name": "stdout",
          "text": [
            "The solution is x = 2.8000000000000003, y = -0.6000000000000001\n"
          ]
        }
      ],
      "source": [
        "import numpy as np\n",
        "\n",
        "# Coefficient matrix A\n",
        "A = np.array([[2, 1],\n",
        "              [3, 4]])\n",
        "\n",
        "# Constants vector b\n",
        "b = np.array([5, 6])\n",
        "\n",
        "# Solve the system Ax = b\n",
        "x = np.linalg.solve(A, b)\n",
        "\n",
        "print(f\"The solution is x = {x[0]}, y = {x[1]}\")"
      ]
    },
    {
      "cell_type": "code",
      "source": [
        "import numpy as np\n",
        "\n",
        "# Coefficients matrix\n",
        "A = np.array([[2, 1],\n",
        "              [3, 4]], dtype=float)\n",
        "\n",
        "# Constants vector\n",
        "b = np.array([5, 6], dtype=float)\n",
        "\n",
        "# Augmented matrix [A | b]\n",
        "augmented_matrix = np.column_stack((A, b))\n",
        "\n",
        "# Step 1: Eliminate x from the second row\n",
        "factor = augmented_matrix[1, 0] / augmented_matrix[0, 0]\n",
        "augmented_matrix[1] = augmented_matrix[1] - factor * augmented_matrix[0]\n",
        "\n",
        "# Step 2: Back substitution\n",
        "# y is now easy to solve for\n",
        "y = augmented_matrix[1, 2] / augmented_matrix[1, 1]\n",
        "\n",
        "# Step 3: Solve for x using the first equation\n",
        "x = (augmented_matrix[0, 2] - augmented_matrix[0, 1] * y) / augmented_matrix[0, 0]\n",
        "\n",
        "# The solution\n",
        "print(f\"x = {x}, y = {y}\")"
      ],
      "metadata": {
        "colab": {
          "base_uri": "https://localhost:8080/"
        },
        "id": "QstXgcccfxKH",
        "outputId": "bf310743-7aaa-400b-e8e7-9f3c7c668463"
      },
      "execution_count": null,
      "outputs": [
        {
          "output_type": "stream",
          "name": "stdout",
          "text": [
            "x = 2.8, y = -0.6\n"
          ]
        }
      ]
    },
    {
      "cell_type": "code",
      "source": [
        "import numpy as np\n",
        "\n",
        "# Coefficient matrix A\n",
        "A = np.array([[2, 1],\n",
        "              [4, 2]])\n",
        "\n",
        "# Constants vector b (optional for solving the system)\n",
        "b = np.array([5, 6])\n",
        "\n",
        "# Calculate the determinant of A\n",
        "det_A = np.linalg.det(A)\n",
        "\n",
        "# Check the determinant and the system's solutions\n",
        "if det_A != 0:\n",
        "    print(f\"Determinant of A = {det_A:.2f}. The matrix is non-singular, so the system has a unique solution.\")\n",
        "    # If we want to solve the system, we can use numpy's solve function\n",
        "    solution = np.linalg.solve(A, b)\n",
        "    print(f\"The unique solution is: {solution}\")\n",
        "else:\n",
        "    print(f\"Determinant of A = {det_A:.2f}. The matrix is singular, so the system may have no solution or infinitely many solutions.\")"
      ],
      "metadata": {
        "colab": {
          "base_uri": "https://localhost:8080/"
        },
        "id": "cPGcaLsYjAuN",
        "outputId": "6c3df393-4792-4168-c54c-df38d3d4f28c"
      },
      "execution_count": null,
      "outputs": [
        {
          "output_type": "stream",
          "name": "stdout",
          "text": [
            "Determinant of A = 0.00. The matrix is singular, so the system may have no solution or infinitely many solutions.\n"
          ]
        }
      ]
    },
    {
      "cell_type": "code",
      "source": [
        "import numpy as np\n",
        "\n",
        "# Coefficients matrix A\n",
        "A = np.array([[2, 1],\n",
        "              [3, 4]], dtype=float)\n",
        "\n",
        "# Constants vector b\n",
        "b = np.array([5, 6], dtype=float)\n",
        "\n",
        "# Augmented matrix [A | b]\n",
        "augmented_matrix = np.column_stack((A, b))\n",
        "\n",
        "# Perform row reduction to row echelon form\n",
        "# Step 1: Eliminate the first entry of the second row\n",
        "factor = augmented_matrix[1, 0] / augmented_matrix[0, 0]\n",
        "augmented_matrix[1] = augmented_matrix[1] - factor * augmented_matrix[0]\n",
        "\n",
        "print(\"Row echelon form of the augmented matrix:\")\n",
        "print(augmented_matrix)"
      ],
      "metadata": {
        "colab": {
          "base_uri": "https://localhost:8080/"
        },
        "id": "jtwHKzJekHWc",
        "outputId": "1aa9d6d3-24da-4597-fa75-4d3bdb8d50c2"
      },
      "execution_count": null,
      "outputs": [
        {
          "output_type": "stream",
          "name": "stdout",
          "text": [
            "Row echelon form of the augmented matrix:\n",
            "[[ 2.   1.   5. ]\n",
            " [ 0.   2.5 -1.5]]\n"
          ]
        }
      ]
    },
    {
      "cell_type": "code",
      "source": [
        "# Back substitution\n",
        "y = augmented_matrix[1, 2] / augmented_matrix[1, 1]\n",
        "x = (augmented_matrix[0, 2] - augmented_matrix[0, 1] * y) / augmented_matrix[0, 0]\n",
        "\n",
        "print(f\"The solution is x = {x}, y = {y}\")"
      ],
      "metadata": {
        "colab": {
          "base_uri": "https://localhost:8080/"
        },
        "id": "fyOhEEoxmDEt",
        "outputId": "0fba5bec-a1d3-42d1-a4c5-e1054627eabc"
      },
      "execution_count": null,
      "outputs": [
        {
          "output_type": "stream",
          "name": "stdout",
          "text": [
            "The solution is x = 2.8, y = -0.6\n"
          ]
        }
      ]
    },
    {
      "cell_type": "code",
      "source": [
        "# Calculate the determinant of A\n",
        "det_A = np.linalg.det(A)\n",
        "\n",
        "print(f\"Determinant of A = {det_A:.2f}\")"
      ],
      "metadata": {
        "colab": {
          "base_uri": "https://localhost:8080/"
        },
        "id": "iU9_FecAmDNs",
        "outputId": "95ca9fdc-b2da-42b5-a401-dae6cdd62e50"
      },
      "execution_count": null,
      "outputs": [
        {
          "output_type": "stream",
          "name": "stdout",
          "text": [
            "Determinant of A = 5.00\n"
          ]
        }
      ]
    },
    {
      "cell_type": "code",
      "source": [
        "import numpy as np\n",
        "\n",
        "# Point to be translated\n",
        "point = np.array([2, 3])\n",
        "\n",
        "# Translation vector\n",
        "translation = np.array([4, -1])\n",
        "\n",
        "# Perform the translation\n",
        "translated_point = point + translation\n",
        "\n",
        "print(f\"Original point: {point}\")\n",
        "print(f\"Translated point: {translated_point}\")"
      ],
      "metadata": {
        "colab": {
          "base_uri": "https://localhost:8080/"
        },
        "id": "mdtfcGgomDSL",
        "outputId": "bfb8ceb4-e362-407e-9c62-e2ef5b21eb0b"
      },
      "execution_count": null,
      "outputs": [
        {
          "output_type": "stream",
          "name": "stdout",
          "text": [
            "Original point: [2 3]\n",
            "Translated point: [6 2]\n"
          ]
        }
      ]
    },
    {
      "cell_type": "code",
      "source": [
        "import numpy as np\n",
        "\n",
        "# 2D point\n",
        "point = np.array([1, 2])\n",
        "\n",
        "# Scaling transformation matrix (scale x by 2, y by 3)\n",
        "scaling_matrix = np.array([[2, 0],\n",
        "                           [0, 3]])\n",
        "\n",
        "# Perform the linear transformation\n",
        "transformed_point = np.dot(scaling_matrix, point)\n",
        "\n",
        "print(f\"Original point: {point}\")\n",
        "print(f\"Transformed point (after scaling): {transformed_point}\")"
      ],
      "metadata": {
        "colab": {
          "base_uri": "https://localhost:8080/"
        },
        "id": "qFpXJxu30_2N",
        "outputId": "d9f6e323-f5da-4a86-b990-bfb52710b17c"
      },
      "execution_count": null,
      "outputs": [
        {
          "output_type": "stream",
          "name": "stdout",
          "text": [
            "Original point: [1 2]\n",
            "Transformed point (after scaling): [2 6]\n"
          ]
        }
      ]
    },
    {
      "cell_type": "code",
      "source": [
        "import numpy as np\n",
        "\n",
        "# 2D point\n",
        "point = np.array([1, 1])\n",
        "\n",
        "# Transformation matrix (for example: rotation by 45 degrees)\n",
        "theta = np.radians(45)\n",
        "rotation_matrix = np.array([[np.cos(theta), -np.sin(theta)],\n",
        "                            [np.sin(theta),  np.cos(theta)]])\n",
        "\n",
        "# Apply the transformation\n",
        "transformed_point = np.dot(rotation_matrix, point)\n",
        "\n",
        "print(f\"Original point: {point}\")\n",
        "print(f\"Transformed point (after rotation): {transformed_point}\")"
      ],
      "metadata": {
        "colab": {
          "base_uri": "https://localhost:8080/"
        },
        "id": "xzCg1D8G0_4i",
        "outputId": "36424eb9-c3e2-49fc-dc39-e286ff1f16e4"
      },
      "execution_count": null,
      "outputs": [
        {
          "output_type": "stream",
          "name": "stdout",
          "text": [
            "Original point: [1 1]\n",
            "Transformed point (after rotation): [1.11022302e-16 1.41421356e+00]\n"
          ]
        }
      ]
    },
    {
      "cell_type": "code",
      "source": [
        "import numpy as np\n",
        "\n",
        "# 2D point\n",
        "point = np.array([1, 2])\n",
        "\n",
        "# Horizontal scaling transformation matrix (scale x by 3)\n",
        "horizontal_scaling_matrix = np.array([[3, 0],\n",
        "                                      [0, 1]])\n",
        "\n",
        "# Apply the horizontal scaling transformation\n",
        "scaled_point = np.dot(horizontal_scaling_matrix, point)\n",
        "\n",
        "print(f\"Original point: {point}\")\n",
        "print(f\"Scaled point (after horizontal scaling): {scaled_point}\")"
      ],
      "metadata": {
        "colab": {
          "base_uri": "https://localhost:8080/"
        },
        "id": "aTl5FQ860_6t",
        "outputId": "09955d7d-a251-494b-885a-99f439d082ef"
      },
      "execution_count": null,
      "outputs": [
        {
          "output_type": "stream",
          "name": "stdout",
          "text": [
            "Original point: [1 2]\n",
            "Scaled point (after horizontal scaling): [3 2]\n"
          ]
        }
      ]
    },
    {
      "cell_type": "code",
      "source": [
        "import numpy as np\n",
        "\n",
        "# 2D point\n",
        "point = np.array([2, 3])\n",
        "\n",
        "# Reflection matrix (about y-axis)\n",
        "reflection_matrix = np.array([[-1, 0],\n",
        "                              [0, 1]])\n",
        "\n",
        "# Apply the reflection\n",
        "reflected_point = np.dot(reflection_matrix, point)\n",
        "\n",
        "print(f\"Original point: {point}\")\n",
        "print(f\"Reflected point (about y-axis): {reflected_point}\")"
      ],
      "metadata": {
        "colab": {
          "base_uri": "https://localhost:8080/"
        },
        "id": "DFcWFTp70_9L",
        "outputId": "6013ab33-7a41-4704-ea55-2a4bb92a8a92"
      },
      "execution_count": null,
      "outputs": [
        {
          "output_type": "stream",
          "name": "stdout",
          "text": [
            "Original point: [2 3]\n",
            "Reflected point (about y-axis): [-2  3]\n"
          ]
        }
      ]
    },
    {
      "cell_type": "code",
      "source": [
        "import numpy as np\n",
        "import matplotlib.pyplot as plt\n",
        "\n",
        "# Define the vertices of a square\n",
        "square = np.array([[0, 0],\n",
        "                   [1, 0],\n",
        "                   [1, 1],\n",
        "                   [0, 1],\n",
        "                   [0, 0]])  # Closed loop\n",
        "\n",
        "# Define transformation matrices\n",
        "theta = np.radians(45)  # Rotation by 45 degrees\n",
        "scaling_matrix = np.array([[2, 0],  # Scaling by 2 along both x and y\n",
        "                           [0, 2]])\n",
        "rotation_matrix = np.array([[np.cos(theta), -np.sin(theta)],\n",
        "                            [np.sin(theta),  np.cos(theta)]])\n",
        "\n",
        "# Apply scaling followed by rotation\n",
        "transformed_square = np.dot(square, scaling_matrix.T)\n",
        "transformed_square = np.dot(transformed_square, rotation_matrix.T)\n",
        "\n",
        "# Plot original and transformed squares\n",
        "plt.figure()\n",
        "plt.plot(square[:, 0], square[:, 1], 'b-', label=\"Original Square\")\n",
        "plt.plot(transformed_square[:, 0], transformed_square[:, 1], 'r-', label=\"Transformed Square\")\n",
        "plt.axhline(0, color='black',linewidth=0.5)\n",
        "plt.axvline(0, color='black',linewidth=0.5)\n",
        "plt.legend()\n",
        "plt.gca().set_aspect('equal', adjustable='box')\n",
        "plt.title(\"Original vs Transformed Shape (Scaling + Rotation)\")\n",
        "plt.show()"
      ],
      "metadata": {
        "colab": {
          "base_uri": "https://localhost:8080/",
          "height": 452
        },
        "id": "2CpHJ5Se1Ul-",
        "outputId": "f071e163-84d7-4ff0-be30-590155ae273c"
      },
      "execution_count": null,
      "outputs": [
        {
          "output_type": "display_data",
          "data": {
            "text/plain": [
              "<Figure size 640x480 with 1 Axes>"
            ],
            "image/png": "[encoded data removed]"
          },
          "metadata": {}
        }
      ]
    },
    {
      "cell_type": "code",
      "source": [
        "import numpy as np\n",
        "\n",
        "# Define a square matrix\n",
        "A = np.array([[4, -2], [1, 1]])\n",
        "\n",
        "# Compute the eigenvalues and eigenvectors\n",
        "eigenvalues, eigenvectors = np.linalg.eig(A)\n",
        "\n",
        "print(\"Eigenvalues:\", eigenvalues)\n",
        "print(\"Eigenvectors:\\n\", eigenvectors)"
      ],
      "metadata": {
        "colab": {
          "base_uri": "https://localhost:8080/"
        },
        "id": "RjR4A5c6fX34",
        "outputId": "aa6a3c9f-ad36-468c-a8d3-026931e896e6"
      },
      "execution_count": 1,
      "outputs": [
        {
          "output_type": "stream",
          "name": "stdout",
          "text": [
            "Eigenvalues: [3. 2.]\n",
            "Eigenvectors:\n",
            " [[0.89442719 0.70710678]\n",
            " [0.4472136  0.70710678]]\n"
          ]
        }
      ]
    },
    {
      "cell_type": "code",
      "source": [
        "import matplotlib.pyplot as plt\n",
        "\n",
        "# Plot the original vectors and their transformed versions\n",
        "def plot_eigenvectors(A, eigenvectors):\n",
        "    origin = [0, 0], [0, 0]  # Origin point\n",
        "\n",
        "    # Original eigenvectors\n",
        "    plt.quiver(*origin, eigenvectors[0, :], eigenvectors[1, :], color=['r', 'b'], scale=5)\n",
        "\n",
        "    # Transformed vectors (applying matrix A)\n",
        "    transformed_vectors = A @ eigenvectors\n",
        "    plt.quiver(*origin, transformed_vectors[0, :], transformed_vectors[1, :], color=['g', 'y'], scale=5)\n",
        "\n",
        "    plt.xlim(-10, 10)\n",
        "    plt.ylim(-10, 10)\n",
        "    plt.axhline(0, color='black',linewidth=0.5)\n",
        "    plt.axvline(0, color='black',linewidth=0.5)\n",
        "    plt.grid()\n",
        "    plt.show()\n",
        "\n",
        "plot_eigenvectors(A, eigenvectors)"
      ],
      "metadata": {
        "colab": {
          "base_uri": "https://localhost:8080/",
          "height": 435
        },
        "id": "uV5MVpxEffmn",
        "outputId": "3a4618d0-9e69-4327-c3a4-1019cebc65af"
      },
      "execution_count": 2,
      "outputs": [
        {
          "output_type": "display_data",
          "data": {
            "text/plain": [
              "<Figure size 640x480 with 1 Axes>"
            ],
            "image/png": "[encoded data removed]"
          },
          "metadata": {}
        }
      ]
    },
    {
      "cell_type": "code",
      "source": [
        "# Webpage Transition Matrix (simple Markov chain model)\n",
        "P = np.array([[0, 1/2, 1/2],\n",
        "              [1/3, 0, 2/3],\n",
        "              [1/4, 3/4, 0]])\n",
        "\n",
        "# Eigenvalues and eigenvectors of the transition matrix\n",
        "eigenvalues, eigenvectors = np.linalg.eig(P)\n",
        "\n",
        "# Finding the principal eigenvector (eigenvector corresponding to the largest eigenvalue)\n",
        "principal_eigenvector = eigenvectors[:, np.argmax(eigenvalues)]\n",
        "\n",
        "print(\"Principal Eigenvector (PageRank-like importance):\\n\", principal_eigenvector)"
      ],
      "metadata": {
        "colab": {
          "base_uri": "https://localhost:8080/"
        },
        "id": "fnQw-jKkffpR",
        "outputId": "3c1b50aa-8268-4a4b-b2a3-bf64d08813ce"
      },
      "execution_count": 3,
      "outputs": [
        {
          "output_type": "stream",
          "name": "stdout",
          "text": [
            "Principal Eigenvector (PageRank-like importance):\n",
            " [0.57735027 0.57735027 0.57735027]\n"
          ]
        }
      ]
    }
  ]
}